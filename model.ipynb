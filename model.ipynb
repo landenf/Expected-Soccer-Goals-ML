{
 "cells": [
  {
   "cell_type": "code",
   "execution_count": 2,
   "metadata": {},
   "outputs": [],
   "source": [
    "#Imports\n",
    "import pandas as pd\n",
    "from sklearn.model_selection import train_test_split\n",
    "from sklearn.neighbors import KNeighborsClassifier\n",
    "from sklearn.metrics import accuracy_score"
   ]
  },
  {
   "cell_type": "code",
   "execution_count": 3,
   "metadata": {},
   "outputs": [
    {
     "name": "stdout",
     "output_type": "stream",
     "text": [
      "<bound method NDFrame.head of      Wk  Day        Date           Time           Home  HomexG Score  AwayxG  \\\n",
      "0     1  Fri  2023-08-11  20:00 (14:00)        Burnley     0.3   0–3     1.9   \n",
      "1     1  Sat  2023-08-12  12:30 (06:30)        Arsenal     0.8   2–1     1.2   \n",
      "2     1  Sat  2023-08-12  15:00 (09:00)        Everton     2.7   0–1     1.5   \n",
      "3     1  Sat  2023-08-12  15:00 (09:00)  Sheffield Utd     0.5   0–1     1.9   \n",
      "4     1  Sat  2023-08-12  15:00 (09:00)       Brighton     4.0   4–1     1.5   \n",
      "..   ..  ...         ...            ...            ...     ...   ...     ...   \n",
      "273  28  Sun  2024-03-10  13:00 (08:00)    Aston Villa     0.8   0–4     1.5   \n",
      "274  28  Sun  2024-03-10  14:00 (09:00)       West Ham     2.1   2–2     0.7   \n",
      "275  28  Sun  2024-03-10  14:00 (09:00)       Brighton     0.4   1–0     0.7   \n",
      "276  28  Sun  2024-03-10  15:45 (10:45)      Liverpool     2.7   1–1     1.6   \n",
      "277  28  Mon  2024-03-11  20:00 (15:00)        Chelsea     1.6   3–2     0.7   \n",
      "\n",
      "                Away Attendance                                   Venue  \\\n",
      "0    Manchester City     21,572                               Turf Moor   \n",
      "1    Nott'ham Forest     59,984                        Emirates Stadium   \n",
      "2             Fulham     39,940                           Goodison Park   \n",
      "3     Crystal Palace     31,194                            Bramall Lane   \n",
      "4         Luton Town     31,872  The American Express Community Stadium   \n",
      "..               ...        ...                                     ...   \n",
      "273        Tottenham     42,310                              Villa Park   \n",
      "274          Burnley     62,441                          London Stadium   \n",
      "275  Nott'ham Forest     31,505  The American Express Community Stadium   \n",
      "276  Manchester City     59,947                                 Anfield   \n",
      "277    Newcastle Utd     37,753                         Stamford Bridge   \n",
      "\n",
      "               Referee  Match Report  Notes  \n",
      "0         Craig Pawson  Match Report    NaN  \n",
      "1       Michael Oliver  Match Report    NaN  \n",
      "2       Stuart Attwell  Match Report    NaN  \n",
      "3          John Brooks  Match Report    NaN  \n",
      "4          David Coote  Match Report    NaN  \n",
      "..                 ...           ...    ...  \n",
      "273     Chris Kavanagh  Match Report    NaN  \n",
      "274     Darren England  Match Report    NaN  \n",
      "275  Michael Salisbury  Match Report    NaN  \n",
      "276     Michael Oliver  Match Report    NaN  \n",
      "277        John Brooks  Match Report    NaN  \n",
      "\n",
      "[278 rows x 14 columns]>\n"
     ]
    }
   ],
   "source": [
    "df = pd.read_csv(\"data/GoalData.csv\")\n",
    "print(df.head)"
   ]
  },
  {
   "cell_type": "markdown",
   "metadata": {},
   "source": [
    "Data Pre-Processing"
   ]
  },
  {
   "cell_type": "code",
   "execution_count": 4,
   "metadata": {},
   "outputs": [
    {
     "name": "stdout",
     "output_type": "stream",
     "text": [
      "<bound method NDFrame.head of      HomexG  AwayxG Score  HomeG  AwayG  DiffxG Result\n",
      "0       0.3     1.9   0–3      0      3    -1.6      A\n",
      "1       0.8     1.2   2–1      2      1    -0.4      H\n",
      "2       2.7     1.5   0–1      0      1     1.2      A\n",
      "3       0.5     1.9   0–1      0      1    -1.4      A\n",
      "4       4.0     1.5   4–1      4      1     2.5      H\n",
      "..      ...     ...   ...    ...    ...     ...    ...\n",
      "273     0.8     1.5   0–4      0      4    -0.7      A\n",
      "274     2.1     0.7   2–2      2      2     1.4      T\n",
      "275     0.4     0.7   1–0      1      0    -0.3      H\n",
      "276     2.7     1.6   1–1      1      1     1.1      T\n",
      "277     1.6     0.7   3–2      3      2     0.9      H\n",
      "\n",
      "[278 rows x 7 columns]>\n"
     ]
    }
   ],
   "source": [
    "def gather_home_goals(value):\n",
    "    if value != None:\n",
    "        return int(value[0])\n",
    "    pass\n",
    "\n",
    "def gather_away_goals(value):\n",
    "    if value != None:\n",
    "        return int(value[2])\n",
    "    \n",
    "def gather_winner(value):\n",
    "    if(value!=None):\n",
    "        if(int(value[0]) > int(value[2])):\n",
    "            return 'H'\n",
    "        elif(int(value[2])>int(value[0])):\n",
    "            return \"A\"\n",
    "        return 'T'\n",
    "columns_to_include = ['HomexG', 'AwayxG', 'Score']\n",
    "df = df[columns_to_include]\n",
    "\n",
    "df['HomeG'] = df['Score'].apply(lambda x: gather_home_goals(x))\n",
    "df['AwayG'] = df['Score'].apply(lambda x: gather_away_goals(x))\n",
    "df['DiffxG'] = df['HomexG'] - df['AwayxG']\n",
    "df['Result'] = df['Score'].apply(lambda x: gather_winner(x))\n",
    "\n",
    "print(df.head)"
   ]
  },
  {
   "cell_type": "markdown",
   "metadata": {},
   "source": [
    "KNN Modeling"
   ]
  },
  {
   "cell_type": "code",
   "execution_count": 6,
   "metadata": {},
   "outputs": [
    {
     "name": "stdout",
     "output_type": "stream",
     "text": [
      "     HomeG  AwayG  DiffxG\n",
      "0        0      3    -1.6\n",
      "1        2      1    -0.4\n",
      "2        0      1     1.2\n",
      "3        0      1    -1.4\n",
      "4        4      1     2.5\n",
      "..     ...    ...     ...\n",
      "273      0      4    -0.7\n",
      "274      2      2     1.4\n",
      "275      1      0    -0.3\n",
      "276      1      1     1.1\n",
      "277      3      2     0.9\n",
      "\n",
      "[278 rows x 3 columns]\n",
      "0      A\n",
      "1      H\n",
      "2      A\n",
      "3      A\n",
      "4      H\n",
      "      ..\n",
      "273    A\n",
      "274    T\n",
      "275    H\n",
      "276    T\n",
      "277    H\n",
      "Name: Result, Length: 278, dtype: object\n",
      "Model accuracy: 0.96\n"
     ]
    }
   ],
   "source": [
    "X = df[['HomeG', 'AwayG', 'DiffxG']]\n",
    "y = df['Result']\n",
    "print(X)\n",
    "print(y)\n",
    "\n",
    "X_train, X_test, y_train, y_test = train_test_split(X, y, test_size=0.25, random_state=42)\n",
    "\n",
    "knn = KNeighborsClassifier(n_neighbors=5)\n",
    "knn.fit(X_train, y_train)\n",
    "\n",
    "y_pred = knn.predict(X_test)\n",
    "accuracy = accuracy_score(y_test, y_pred)\n",
    "print(f\"Model accuracy: {accuracy:.2f}\")"
   ]
  },
  {
   "cell_type": "markdown",
   "metadata": {},
   "source": [
    "Test Predictions"
   ]
  },
  {
   "cell_type": "code",
   "execution_count": 7,
   "metadata": {},
   "outputs": [
    {
     "ename": "ValueError",
     "evalue": "The feature names should match those that were passed during fit.\nFeature names unseen at fit time:\n- AwayxG\n- HomexG\nFeature names seen at fit time, yet now missing:\n- AwayG\n- HomeG\n",
     "output_type": "error",
     "traceback": [
      "\u001b[1;31m---------------------------------------------------------------------------\u001b[0m",
      "\u001b[1;31mValueError\u001b[0m                                Traceback (most recent call last)",
      "Cell \u001b[1;32mIn[7], line 7\u001b[0m\n\u001b[0;32m      1\u001b[0m test_data_df \u001b[38;5;241m=\u001b[39m pd\u001b[38;5;241m.\u001b[39mDataFrame({\n\u001b[0;32m      2\u001b[0m     \u001b[38;5;124m'\u001b[39m\u001b[38;5;124mHomexG\u001b[39m\u001b[38;5;124m'\u001b[39m: [\u001b[38;5;241m1.5\u001b[39m],\n\u001b[0;32m      3\u001b[0m     \u001b[38;5;124m'\u001b[39m\u001b[38;5;124mAwayxG\u001b[39m\u001b[38;5;124m'\u001b[39m: [\u001b[38;5;241m0.9\u001b[39m],\n\u001b[0;32m      4\u001b[0m     \u001b[38;5;124m'\u001b[39m\u001b[38;5;124mDiffxG\u001b[39m\u001b[38;5;124m'\u001b[39m: [\u001b[38;5;241m1.5\u001b[39m \u001b[38;5;241m-\u001b[39m \u001b[38;5;241m0.9\u001b[39m]\n\u001b[0;32m      5\u001b[0m })\n\u001b[1;32m----> 7\u001b[0m predicted_result \u001b[38;5;241m=\u001b[39m \u001b[43mknn\u001b[49m\u001b[38;5;241;43m.\u001b[39;49m\u001b[43mpredict\u001b[49m\u001b[43m(\u001b[49m\u001b[43mtest_data_df\u001b[49m\u001b[43m)\u001b[49m\n\u001b[0;32m      8\u001b[0m \u001b[38;5;28mprint\u001b[39m(\u001b[38;5;124mf\u001b[39m\u001b[38;5;124m\"\u001b[39m\u001b[38;5;124mPredicted Result: \u001b[39m\u001b[38;5;132;01m{\u001b[39;00mpredicted_result[\u001b[38;5;241m0\u001b[39m]\u001b[38;5;132;01m}\u001b[39;00m\u001b[38;5;124m\"\u001b[39m)\n",
      "File \u001b[1;32m~\\AppData\\Roaming\\Python\\Python311\\site-packages\\sklearn\\neighbors\\_classification.py:271\u001b[0m, in \u001b[0;36mKNeighborsClassifier.predict\u001b[1;34m(self, X)\u001b[0m\n\u001b[0;32m    268\u001b[0m         \u001b[38;5;28;01mreturn\u001b[39;00m \u001b[38;5;28mself\u001b[39m\u001b[38;5;241m.\u001b[39mclasses_[np\u001b[38;5;241m.\u001b[39margmax(probabilities, axis\u001b[38;5;241m=\u001b[39m\u001b[38;5;241m1\u001b[39m)]\n\u001b[0;32m    269\u001b[0m     \u001b[38;5;66;03m# In that case, we do not need the distances to perform\u001b[39;00m\n\u001b[0;32m    270\u001b[0m     \u001b[38;5;66;03m# the weighting so we do not compute them.\u001b[39;00m\n\u001b[1;32m--> 271\u001b[0m     neigh_ind \u001b[38;5;241m=\u001b[39m \u001b[38;5;28;43mself\u001b[39;49m\u001b[38;5;241;43m.\u001b[39;49m\u001b[43mkneighbors\u001b[49m\u001b[43m(\u001b[49m\u001b[43mX\u001b[49m\u001b[43m,\u001b[49m\u001b[43m \u001b[49m\u001b[43mreturn_distance\u001b[49m\u001b[38;5;241;43m=\u001b[39;49m\u001b[38;5;28;43;01mFalse\u001b[39;49;00m\u001b[43m)\u001b[49m\n\u001b[0;32m    272\u001b[0m     neigh_dist \u001b[38;5;241m=\u001b[39m \u001b[38;5;28;01mNone\u001b[39;00m\n\u001b[0;32m    273\u001b[0m \u001b[38;5;28;01melse\u001b[39;00m:\n",
      "File \u001b[1;32m~\\AppData\\Roaming\\Python\\Python311\\site-packages\\sklearn\\neighbors\\_base.py:826\u001b[0m, in \u001b[0;36mKNeighborsMixin.kneighbors\u001b[1;34m(self, X, n_neighbors, return_distance)\u001b[0m\n\u001b[0;32m    824\u001b[0m         X \u001b[38;5;241m=\u001b[39m _check_precomputed(X)\n\u001b[0;32m    825\u001b[0m     \u001b[38;5;28;01melse\u001b[39;00m:\n\u001b[1;32m--> 826\u001b[0m         X \u001b[38;5;241m=\u001b[39m \u001b[38;5;28;43mself\u001b[39;49m\u001b[38;5;241;43m.\u001b[39;49m\u001b[43m_validate_data\u001b[49m\u001b[43m(\u001b[49m\u001b[43mX\u001b[49m\u001b[43m,\u001b[49m\u001b[43m \u001b[49m\u001b[43maccept_sparse\u001b[49m\u001b[38;5;241;43m=\u001b[39;49m\u001b[38;5;124;43m\"\u001b[39;49m\u001b[38;5;124;43mcsr\u001b[39;49m\u001b[38;5;124;43m\"\u001b[39;49m\u001b[43m,\u001b[49m\u001b[43m \u001b[49m\u001b[43mreset\u001b[49m\u001b[38;5;241;43m=\u001b[39;49m\u001b[38;5;28;43;01mFalse\u001b[39;49;00m\u001b[43m,\u001b[49m\u001b[43m \u001b[49m\u001b[43morder\u001b[49m\u001b[38;5;241;43m=\u001b[39;49m\u001b[38;5;124;43m\"\u001b[39;49m\u001b[38;5;124;43mC\u001b[39;49m\u001b[38;5;124;43m\"\u001b[39;49m\u001b[43m)\u001b[49m\n\u001b[0;32m    828\u001b[0m n_samples_fit \u001b[38;5;241m=\u001b[39m \u001b[38;5;28mself\u001b[39m\u001b[38;5;241m.\u001b[39mn_samples_fit_\n\u001b[0;32m    829\u001b[0m \u001b[38;5;28;01mif\u001b[39;00m n_neighbors \u001b[38;5;241m>\u001b[39m n_samples_fit:\n",
      "File \u001b[1;32m~\\AppData\\Roaming\\Python\\Python311\\site-packages\\sklearn\\base.py:608\u001b[0m, in \u001b[0;36mBaseEstimator._validate_data\u001b[1;34m(self, X, y, reset, validate_separately, cast_to_ndarray, **check_params)\u001b[0m\n\u001b[0;32m    537\u001b[0m \u001b[38;5;28;01mdef\u001b[39;00m \u001b[38;5;21m_validate_data\u001b[39m(\n\u001b[0;32m    538\u001b[0m     \u001b[38;5;28mself\u001b[39m,\n\u001b[0;32m    539\u001b[0m     X\u001b[38;5;241m=\u001b[39m\u001b[38;5;124m\"\u001b[39m\u001b[38;5;124mno_validation\u001b[39m\u001b[38;5;124m\"\u001b[39m,\n\u001b[1;32m   (...)\u001b[0m\n\u001b[0;32m    544\u001b[0m     \u001b[38;5;241m*\u001b[39m\u001b[38;5;241m*\u001b[39mcheck_params,\n\u001b[0;32m    545\u001b[0m ):\n\u001b[0;32m    546\u001b[0m \u001b[38;5;250m    \u001b[39m\u001b[38;5;124;03m\"\"\"Validate input data and set or check the `n_features_in_` attribute.\u001b[39;00m\n\u001b[0;32m    547\u001b[0m \n\u001b[0;32m    548\u001b[0m \u001b[38;5;124;03m    Parameters\u001b[39;00m\n\u001b[1;32m   (...)\u001b[0m\n\u001b[0;32m    606\u001b[0m \u001b[38;5;124;03m        validated.\u001b[39;00m\n\u001b[0;32m    607\u001b[0m \u001b[38;5;124;03m    \"\"\"\u001b[39;00m\n\u001b[1;32m--> 608\u001b[0m     \u001b[38;5;28;43mself\u001b[39;49m\u001b[38;5;241;43m.\u001b[39;49m\u001b[43m_check_feature_names\u001b[49m\u001b[43m(\u001b[49m\u001b[43mX\u001b[49m\u001b[43m,\u001b[49m\u001b[43m \u001b[49m\u001b[43mreset\u001b[49m\u001b[38;5;241;43m=\u001b[39;49m\u001b[43mreset\u001b[49m\u001b[43m)\u001b[49m\n\u001b[0;32m    610\u001b[0m     \u001b[38;5;28;01mif\u001b[39;00m y \u001b[38;5;129;01mis\u001b[39;00m \u001b[38;5;28;01mNone\u001b[39;00m \u001b[38;5;129;01mand\u001b[39;00m \u001b[38;5;28mself\u001b[39m\u001b[38;5;241m.\u001b[39m_get_tags()[\u001b[38;5;124m\"\u001b[39m\u001b[38;5;124mrequires_y\u001b[39m\u001b[38;5;124m\"\u001b[39m]:\n\u001b[0;32m    611\u001b[0m         \u001b[38;5;28;01mraise\u001b[39;00m \u001b[38;5;167;01mValueError\u001b[39;00m(\n\u001b[0;32m    612\u001b[0m             \u001b[38;5;124mf\u001b[39m\u001b[38;5;124m\"\u001b[39m\u001b[38;5;124mThis \u001b[39m\u001b[38;5;132;01m{\u001b[39;00m\u001b[38;5;28mself\u001b[39m\u001b[38;5;241m.\u001b[39m\u001b[38;5;18m__class__\u001b[39m\u001b[38;5;241m.\u001b[39m\u001b[38;5;18m__name__\u001b[39m\u001b[38;5;132;01m}\u001b[39;00m\u001b[38;5;124m estimator \u001b[39m\u001b[38;5;124m\"\u001b[39m\n\u001b[0;32m    613\u001b[0m             \u001b[38;5;124m\"\u001b[39m\u001b[38;5;124mrequires y to be passed, but the target y is None.\u001b[39m\u001b[38;5;124m\"\u001b[39m\n\u001b[0;32m    614\u001b[0m         )\n",
      "File \u001b[1;32m~\\AppData\\Roaming\\Python\\Python311\\site-packages\\sklearn\\base.py:535\u001b[0m, in \u001b[0;36mBaseEstimator._check_feature_names\u001b[1;34m(self, X, reset)\u001b[0m\n\u001b[0;32m    530\u001b[0m \u001b[38;5;28;01mif\u001b[39;00m \u001b[38;5;129;01mnot\u001b[39;00m missing_names \u001b[38;5;129;01mand\u001b[39;00m \u001b[38;5;129;01mnot\u001b[39;00m unexpected_names:\n\u001b[0;32m    531\u001b[0m     message \u001b[38;5;241m+\u001b[39m\u001b[38;5;241m=\u001b[39m (\n\u001b[0;32m    532\u001b[0m         \u001b[38;5;124m\"\u001b[39m\u001b[38;5;124mFeature names must be in the same order as they were in fit.\u001b[39m\u001b[38;5;130;01m\\n\u001b[39;00m\u001b[38;5;124m\"\u001b[39m\n\u001b[0;32m    533\u001b[0m     )\n\u001b[1;32m--> 535\u001b[0m \u001b[38;5;28;01mraise\u001b[39;00m \u001b[38;5;167;01mValueError\u001b[39;00m(message)\n",
      "\u001b[1;31mValueError\u001b[0m: The feature names should match those that were passed during fit.\nFeature names unseen at fit time:\n- AwayxG\n- HomexG\nFeature names seen at fit time, yet now missing:\n- AwayG\n- HomeG\n"
     ]
    }
   ],
   "source": [
    "test_data_df = pd.DataFrame({\n",
    "    'HomeG': [2],\n",
    "    'AwayG': [0],\n",
    "    'DiffxG': [1.5 - 0.9]\n",
    "})\n",
    "\n",
    "predicted_result = knn.predict(test_data_df)\n",
    "print(f\"Predicted Result: {predicted_result[0]}\")"
   ]
  },
  {
   "cell_type": "markdown",
   "metadata": {},
   "source": [
    "Conclusion"
   ]
  }
 ],
 "metadata": {
  "kernelspec": {
   "display_name": "Python 3",
   "language": "python",
   "name": "python3"
  },
  "language_info": {
   "codemirror_mode": {
    "name": "ipython",
    "version": 3
   },
   "file_extension": ".py",
   "mimetype": "text/x-python",
   "name": "python",
   "nbconvert_exporter": "python",
   "pygments_lexer": "ipython3",
   "version": "3.11.5"
  }
 },
 "nbformat": 4,
 "nbformat_minor": 2
}
