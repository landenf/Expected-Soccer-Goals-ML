{
 "cells": [
  {
   "cell_type": "markdown",
   "metadata": {},
   "source": [
    "# Expected Goals in Professional Soccer"
   ]
  },
  {
   "cell_type": "code",
   "execution_count": 2,
   "metadata": {},
   "outputs": [],
   "source": [
    "import pandas as pd\n",
    "from sklearn.model_selection import train_test_split\n",
    "from sklearn.neighbors import KNeighborsClassifier\n",
    "from sklearn.metrics import accuracy_score\n",
    "import numpy as np\n",
    "import matplotlib.pyplot as plt\n",
    "from matplotlib.colors import ListedColormap"
   ]
  },
  {
   "cell_type": "code",
   "execution_count": 3,
   "metadata": {},
   "outputs": [
    {
     "name": "stdout",
     "output_type": "stream",
     "text": [
      "<bound method NDFrame.head of      Wk  Day        Date           Time           Home  HomexG Score  AwayxG  \\\n",
      "0     1  Fri  2023-08-11  20:00 (14:00)        Burnley     0.3   0–3     1.9   \n",
      "1     1  Sat  2023-08-12  12:30 (06:30)        Arsenal     0.8   2–1     1.2   \n",
      "2     1  Sat  2023-08-12  15:00 (09:00)        Everton     2.7   0–1     1.5   \n",
      "3     1  Sat  2023-08-12  15:00 (09:00)  Sheffield Utd     0.5   0–1     1.9   \n",
      "4     1  Sat  2023-08-12  15:00 (09:00)       Brighton     4.0   4–1     1.5   \n",
      "..   ..  ...         ...            ...            ...     ...   ...     ...   \n",
      "273  28  Sun  2024-03-10  13:00 (08:00)    Aston Villa     0.8   0–4     1.5   \n",
      "274  28  Sun  2024-03-10  14:00 (09:00)       West Ham     2.1   2–2     0.7   \n",
      "275  28  Sun  2024-03-10  14:00 (09:00)       Brighton     0.4   1–0     0.7   \n",
      "276  28  Sun  2024-03-10  15:45 (10:45)      Liverpool     2.7   1–1     1.6   \n",
      "277  28  Mon  2024-03-11  20:00 (15:00)        Chelsea     1.6   3–2     0.7   \n",
      "\n",
      "                Away Attendance                                   Venue  \\\n",
      "0    Manchester City     21,572                               Turf Moor   \n",
      "1    Nott'ham Forest     59,984                        Emirates Stadium   \n",
      "2             Fulham     39,940                           Goodison Park   \n",
      "3     Crystal Palace     31,194                            Bramall Lane   \n",
      "4         Luton Town     31,872  The American Express Community Stadium   \n",
      "..               ...        ...                                     ...   \n",
      "273        Tottenham     42,310                              Villa Park   \n",
      "274          Burnley     62,441                          London Stadium   \n",
      "275  Nott'ham Forest     31,505  The American Express Community Stadium   \n",
      "276  Manchester City     59,947                                 Anfield   \n",
      "277    Newcastle Utd     37,753                         Stamford Bridge   \n",
      "\n",
      "               Referee  Match Report  Notes  \n",
      "0         Craig Pawson  Match Report    NaN  \n",
      "1       Michael Oliver  Match Report    NaN  \n",
      "2       Stuart Attwell  Match Report    NaN  \n",
      "3          John Brooks  Match Report    NaN  \n",
      "4          David Coote  Match Report    NaN  \n",
      "..                 ...           ...    ...  \n",
      "273     Chris Kavanagh  Match Report    NaN  \n",
      "274     Darren England  Match Report    NaN  \n",
      "275  Michael Salisbury  Match Report    NaN  \n",
      "276     Michael Oliver  Match Report    NaN  \n",
      "277        John Brooks  Match Report    NaN  \n",
      "\n",
      "[278 rows x 14 columns]>\n"
     ]
    }
   ],
   "source": [
    "# Load the dataset from a CSV file into a pandas DataFrame\n",
    "df = pd.read_csv(\"data/GoalData.csv\")\n",
    "\n",
    "print(df.head)"
   ]
  },
  {
   "cell_type": "markdown",
   "metadata": {},
   "source": [
    "## Data Pre-Processing"
   ]
  },
  {
   "cell_type": "code",
   "execution_count": 4,
   "metadata": {},
   "outputs": [
    {
     "name": "stdout",
     "output_type": "stream",
     "text": [
      "      xG  DiffxG  Result\n",
      "0    0.3    -0.3       0\n",
      "1    0.8     1.2       1\n",
      "2    2.7    -2.7       0\n",
      "3    0.5    -0.5       0\n",
      "4    4.0     0.0       1\n",
      "..   ...     ...     ...\n",
      "273  1.5     2.5       1\n",
      "274  0.7     1.3       0\n",
      "275  0.7    -0.7       0\n",
      "276  1.6    -0.6       0\n",
      "277  0.7     1.3       0\n",
      "\n",
      "[556 rows x 3 columns]\n"
     ]
    }
   ],
   "source": [
    "# Function to extract the home team's goal count from the 'Score' field\n",
    "def gather_home_goals(value):\n",
    "    if value is not None:\n",
    "        return int(value[0])  \n",
    "    pass  \n",
    "\n",
    "# Function to extract the away team's goal count from the 'Score' field\n",
    "def gather_away_goals(value):\n",
    "    if value is not None:\n",
    "        return int(value[2])  \n",
    "    \n",
    "# Function to determine the match winner based on the score\n",
    "def gather_winner(value):\n",
    "    if value is not None:\n",
    "        if int(value[0]) > int(value[2]):\n",
    "            return 'H'  \n",
    "        elif int(value[2]) > int(value[0]):\n",
    "            return 'A'  \n",
    "        return 'T'  \n",
    "\n",
    "# Function to determine if the home team won (binary outcome)\n",
    "def gather_home_winner(value):\n",
    "    if value is not None:\n",
    "        if value == 'H':\n",
    "            return 1  \n",
    "        return 0  \n",
    "    \n",
    "# Function to determine if the away team won (binary outcome)\n",
    "def gather_away_winner(value):\n",
    "    if value is not None:\n",
    "        if value == 'A':\n",
    "            return 1  \n",
    "        return 0 \n",
    "\n",
    "# Apply functions to extract home and away goal counts from the 'Score' field\n",
    "df['HomeG'] = df['Score'].apply(lambda x: gather_home_goals(x))\n",
    "df['AwayG'] = df['Score'].apply(lambda x: gather_away_goals(x))\n",
    "\n",
    "# Calculate the goal difference between actual goals and expected goals for home and away teams\n",
    "df['DiffHxG'] = df['HomeG'] - df['HomexG']\n",
    "df['DiffAxG'] = df['AwayG'] - df['AwayxG']\n",
    "\n",
    "# Determine the match result (winner)\n",
    "df['Result'] = df['Score'].apply(lambda x: gather_winner(x))\n",
    "\n",
    "# Create dataframes for home and away teams with relevant columns\n",
    "dfH = df[['HomexG', 'DiffHxG', 'Result']].copy()\n",
    "dfA = df[['AwayxG', 'DiffAxG', 'Result']].copy()\n",
    "\n",
    "# Rename columns in the dataframes for clarity and apply the functions to determine binary results\n",
    "dfH.rename(columns={'HomexG': 'xG', 'DiffHxG': 'DiffxG'}, inplace=True)\n",
    "dfH['Result'] = dfH['Result'].apply(lambda x: gather_home_winner(x))\n",
    "\n",
    "dfA.rename(columns={'AwayxG': 'xG', 'DiffAxG': 'DiffxG'}, inplace=True)\n",
    "dfA['Result'] = dfA['Result'].apply(lambda x: gather_away_winner(x))\n",
    "\n",
    "# Ensure that the dataframes only contain the desired columns after renaming\n",
    "dfH = dfH[['xG', 'DiffxG', 'Result']].copy()\n",
    "dfA = dfA[['xG', 'DiffxG', 'Result']].copy()\n",
    "\n",
    "# Concatenate the dataframes for home and away into a single dataframe\n",
    "df2 = pd.concat([dfH, dfA])\n",
    "\n",
    "# Display the final dataframe after processing and transformations\n",
    "print(df2)"
   ]
  },
  {
   "cell_type": "markdown",
   "metadata": {},
   "source": [
    "## KNN Modeling"
   ]
  },
  {
   "cell_type": "code",
   "execution_count": 5,
   "metadata": {},
   "outputs": [
    {
     "name": "stdout",
     "output_type": "stream",
     "text": [
      "      xG  DiffxG\n",
      "0    0.3    -0.3\n",
      "1    0.8     1.2\n",
      "2    2.7    -2.7\n",
      "3    0.5    -0.5\n",
      "4    4.0     0.0\n",
      "..   ...     ...\n",
      "273  1.5     2.5\n",
      "274  0.7     1.3\n",
      "275  0.7    -0.7\n",
      "276  1.6    -0.6\n",
      "277  0.7     1.3\n",
      "\n",
      "[556 rows x 2 columns]\n",
      "0      0\n",
      "1      1\n",
      "2      0\n",
      "3      0\n",
      "4      1\n",
      "      ..\n",
      "273    1\n",
      "274    0\n",
      "275    0\n",
      "276    0\n",
      "277    0\n",
      "Name: Result, Length: 556, dtype: int64\n",
      "Model accuracy: 0.81\n"
     ]
    }
   ],
   "source": [
    "# Separate features (X) and labels (y) from the dataframe\n",
    "X = df2[['xG', 'DiffxG']] \n",
    "y = df2['Result']  \n",
    "print(X) \n",
    "print(y)  \n",
    "\n",
    "\n",
    "# Split the data into training and test sets (75% training, 25% test)\n",
    "X_train, X_test, y_train, y_test = train_test_split(X, y, test_size=0.25, random_state=42)\n",
    "\n",
    "# Define the number of neighbors for KNN\n",
    "N_Value = 5\n",
    "\n",
    "# Create a KNN classifier with the specified number of neighbors\n",
    "knn = KNeighborsClassifier(n_neighbors=N_Value)\n",
    "\n",
    "# Fit the classifier to the training data\n",
    "knn.fit(X_train, y_train)\n",
    "\n",
    "# Predict the labels for the test set\n",
    "y_pred = knn.predict(X_test)\n",
    "\n",
    "# Calculate the accuracy of the model\n",
    "accuracy = accuracy_score(y_test, y_pred)\n",
    "print(f\"Model accuracy: {accuracy:.2f}\") "
   ]
  },
  {
   "cell_type": "markdown",
   "metadata": {},
   "source": [
    "## Test Predictions"
   ]
  },
  {
   "cell_type": "code",
   "execution_count": 29,
   "metadata": {},
   "outputs": [
    {
     "name": "stdout",
     "output_type": "stream",
     "text": [
      "15\n",
      "14\n"
     ]
    },
    {
     "data": {
      "image/png": "[encoded data removed]",
      "text/plain": [
       "<Figure size 640x480 with 1 Axes>"
      ]
     },
     "metadata": {},
     "output_type": "display_data"
    },
    {
     "name": "stderr",
     "output_type": "stream",
     "text": [
      "C:\\Users\\tagez\\AppData\\Roaming\\Python\\Python311\\site-packages\\sklearn\\base.py:493: UserWarning: X does not have valid feature names, but KNeighborsClassifier was fitted with feature names\n",
      "  warnings.warn(\n"
     ]
    },
    {
     "data": {
      "image/png": "[encoded data removed]",
      "text/plain": [
       "<Figure size 1000x600 with 1 Axes>"
      ]
     },
     "metadata": {},
     "output_type": "display_data"
    }
   ],
   "source": [
    "percentiles = [0.1,0.2,0.3,0.4,0.5,0.6,0.7,0.8,0.9,0.99]\n",
    "\n",
    "xG_percentiles = df2['xG'].quantile(percentiles)\n",
    "DiffxG_percentiles = df2['DiffxG'].quantile(percentiles)\n",
    "\n",
    "# Create a new test data point for prediction\n",
    "predicted_results = []\n",
    "\n",
    "for xG_percentile in xG_percentiles:\n",
    "    xG_percentile_prediction = []\n",
    "    for DiffxG_percentile in DiffxG_percentiles:\n",
    "\n",
    "        test_data_df = pd.DataFrame({\n",
    "            'xG': [xG_percentile],  \n",
    "            'DiffxG': [DiffxG_percentile]  \n",
    "        })\n",
    "\n",
    "        predicted_result = knn.predict(test_data_df)\n",
    "        xG_percentile_prediction.append(predicted_result[0])\n",
    "    predicted_results.append(xG_percentile_prediction)\n",
    "\n",
    "DiffxG_win_count = 0\n",
    "for i in range(5):\n",
    "    for result in predicted_results[i]:\n",
    "        if result == 1:\n",
    "            DiffxG_win_count += 1\n",
    "\n",
    "print(DiffxG_win_count)\n",
    "\n",
    "xG_win_count = 0\n",
    "for result_set in predicted_results:\n",
    "    for i in range(5):\n",
    "        if result_set[i] == 1:\n",
    "            xG_win_count += 1\n",
    "\n",
    "print(xG_win_count)\n",
    "\n",
    "\n",
    "# Define a color map for the contour plot (Red and Green for Win and Loss)\n",
    "cmap_light = ListedColormap(['#FFAAAA', '#AAFFAA'])  \n",
    "\n",
    "\n",
    "plt.imshow(predicted_results, cmap=cmap_light, interpolation='nearest')\n",
    "plt.gca().invert_yaxis()\n",
    "plt.xlabel('DiffxG Percentile')\n",
    "plt.ylabel('xG Percentile')\n",
    "plt.title('Model Predictions @ Different Tiers')\n",
    "plt.show()\n",
    "\n",
    "# Define plot boundaries based on the minimum and maximum values of the features\n",
    "x_min, x_max = X.iloc[:, 0].min() - 1, X.iloc[:, 0].max() + 1 \n",
    "y_min, y_max = X.iloc[:, 1].min() - 1, X.iloc[:, 1].max() + 1  \n",
    "\n",
    "# Generate a grid of points to plot the decision boundary\n",
    "xx, yy = np.meshgrid(np.arange(x_min, x_max, 0.1),\n",
    "                     np.arange(y_min, y_max, 0.1))\n",
    "\n",
    "# Predict the labels for all points in the grid to visualize decision boundaries\n",
    "Z = knn.predict(np.c_[xx.ravel(), yy.ravel()])\n",
    "Z = Z.reshape(xx.shape)\n",
    "\n",
    "# Plot the decision boundary and the data points\n",
    "plt.figure(figsize=(10, 6))  \n",
    "plt.contourf(xx, yy, Z, alpha=0.4, cmap=cmap_light)  \n",
    "plt.scatter(X.iloc[:, 0], X.iloc[:, 1], c=y, cmap=cmap_light, s=20, edgecolors='k') \n",
    "plt.xlabel('DiffxG') \n",
    "plt.ylabel('xG')  \n",
    "plt.title(f'KNN Decision Boundary K={N_Value}') \n",
    "plt.show() "
   ]
  },
  {
   "cell_type": "markdown",
   "metadata": {},
   "source": [
    "Prediction forecasting "
   ]
  },
  {
   "cell_type": "code",
   "execution_count": null,
   "metadata": {},
   "outputs": [],
   "source": [
    "# get train tests split \n",
    "df = pd.read_csv(\"data/GoalData.csv\")\n",
    "train = df\n",
    "test = df[(3*len(df)//4):len(df)]"
   ]
  },
  {
   "cell_type": "code",
   "execution_count": null,
   "metadata": {},
   "outputs": [],
   "source": [
    "def clean(data):\n",
    "    cols = ['Wk', 'Home', 'HomexG', 'Score', 'AwayxG', 'Away']\n",
    "    data = data[cols].copy()\n",
    "    data['AwayG'] = data['Score'].apply(lambda x: gather_away_goals(x))\n",
    "    data['HomeG'] = data['Score'].apply(lambda x: gather_home_goals(x))\n",
    "    data['AwayxGDiff'] = data['AwayG'] - data['AwayxG']\n",
    "    data['HomexGDiff'] = data['HomeG'] - data['HomexG']\n",
    "    data['Result'] = data['Score'].apply(lambda x: gather_winner(x))\n",
    "    data['xGDiff'] = abs(data['AwayxG'] - data['HomexG'])\n",
    "    data['diffxGDiff'] = abs(data['AwayxGDiff']-data['HomexGDiff'])\n",
    "    data = data.drop(columns=['Score', 'AwayG', 'HomeG'])\n",
    "    return data\n",
    "\n",
    "clean_train = clean(train)\n",
    "clean_test = clean(test)"
   ]
  },
  {
   "cell_type": "code",
   "execution_count": null,
   "metadata": {},
   "outputs": [
    {
     "name": "stdout",
     "output_type": "stream",
     "text": [
      "{'Arsenal': (2.1999999999999997, 1.55), 'Manchester City': (1.7200000000000002, 2.2636363636363637), 'Liverpool': (2.8, 1.6090909090909091), 'Aston Villa': (2.17, 1.409090909090909), 'Tottenham': (2.01, 1.4727272727272727), 'Newcastle Utd': (2.290909090909091, 1.53), 'Chelsea': (2.118181818181818, 1.8399999999999999), 'Manchester Utd': (1.7181818181818185, 1.11), 'West Ham': (1.2599999999999998, 1.5636363636363635), 'Bournemouth': (1.2900000000000003, 1.56), 'Brighton': (2.018181818181818, 1.35), 'Wolves': (1.3000000000000003, 1.3636363636363635), 'Fulham': (1.6, 0.8454545454545456), 'Crystal Palace': (1.2, 1.1818181818181819), 'Everton': (1.7545454545454546, 1.1700000000000002), 'Brentford': (1.7999999999999998, 1.4400000000000002), \"Nott'ham Forest\": (1.15, 1.2363636363636363), 'Luton Town': (1.1800000000000002, 0.82), 'Burnley': (0.990909090909091, 0.7500000000000001), 'Sheffield Utd': (1.2000000000000002, 0.5700000000000001)} 0.14963512473325194\n"
     ]
    }
   ],
   "source": [
    "import math\n",
    "teams = ['Arsenal', 'Manchester City', 'Liverpool', 'Aston Villa', 'Tottenham', 'Newcastle Utd', 'Chelsea', 'Manchester Utd', 'West Ham', 'Bournemouth', 'Brighton', 'Wolves', 'Fulham', 'Crystal Palace', 'Everton', 'Brentford', \"Nott'ham Forest\", 'Luton Town', 'Burnley', 'Sheffield Utd']\n",
    "\n",
    "# gather the average home xG and awayxG for each team\n",
    "def getRollingAverage(week, numWeeks):\n",
    "    xgResults = {}\n",
    "    average = clean_train[(clean_train['Wk'] > (week - numWeeks)) & (clean_train['Wk'] <= week)]\n",
    "    for team in teams:\n",
    "        avgHomeXg = average[average['Home'] == team]['HomexG'].mean()\n",
    "        avgAwayXg = average[average['Away'] == team]['AwayxG'].mean()\n",
    "        xgResults[team] = (avgHomeXg, avgAwayXg)\n",
    "    avgTieXG = average[average['Result']=='T']['xGDiff'].mean()\n",
    "    avgTieXG /= math.sqrt(numWeeks)\n",
    "    return xgResults, avgTieXG\n",
    "\n",
    "# this is our population deviation, normalize it for sample. With 21 games, we assume each team plays 10 home and 11 away\n",
    "# leaving us with 10 as our minimum\n",
    "\n",
    "\n",
    "xgResults, avgTieXG = getRollingAverage(21, 21)\n",
    "print(xgResults, avgTieXG)\n"
   ]
  },
  {
   "cell_type": "code",
   "execution_count": null,
   "metadata": {},
   "outputs": [],
   "source": [
    "def predict_result(homeXg, awayXg, tieBarrier):\n",
    "    if(abs(homeXg-awayXg)<tieBarrier):\n",
    "        return 'T'\n",
    "    elif(homeXg-awayXg)>0:\n",
    "        return 'H'\n",
    "    return 'A'\n",
    "\n",
    "predxG = []\n",
    "for index,row in clean_test.iterrows():\n",
    "    predxG.append(predict_result(xgResults[row['Home']][0], xgResults[row['Away']][1], avgTieXG))\n",
    "actualxG = clean_test['Result'].to_list()"
   ]
  },
  {
   "cell_type": "code",
   "execution_count": null,
   "metadata": {},
   "outputs": [
    {
     "name": "stdout",
     "output_type": "stream",
     "text": [
      "Accuracy of season long xG to predict result: 0.6\n"
     ]
    }
   ],
   "source": [
    "import sklearn.metrics as metrics\n",
    "accuracy = metrics.accuracy_score(actualxG, predxG)\n",
    "print(\"Accuracy of season long xG to predict result:\", accuracy)"
   ]
  },
  {
   "cell_type": "code",
   "execution_count": null,
   "metadata": {},
   "outputs": [
    {
     "name": "stdout",
     "output_type": "stream",
     "text": [
      "{'Arsenal': (0.2545454545454545, -0.050000000000000024), 'Manchester City': (0.7799999999999998, -0.0818181818181818), 'Liverpool': (-0.2, 0.30000000000000004), 'Aston Villa': (0.73, -0.13636363636363635), 'Tottenham': (-0.009999999999999964, 0.7090909090909091), 'Newcastle Utd': (-0.018181818181818136, 0.06999999999999992), 'Chelsea': (-0.4818181818181818, -0.1399999999999999), 'Manchester Utd': (-0.3545454545454545, -0.21000000000000005), 'West Ham': (0.43999999999999995, 0.07272727272727271), 'Bournemouth': (-0.19, 0.13999999999999996), 'Brighton': (-0.0181818181818182, 0.25), 'Wolves': (0.3, -0.09090909090909088), 'Fulham': (0.3, -0.02727272727272728), 'Crystal Palace': (-0.1, -0.18181818181818182), 'Everton': (-0.7545454545454544, 0.12999999999999998), 'Brentford': (0.018181818181818136, -0.54), \"Nott'ham Forest\": (0.25000000000000006, -0.14545454545454545), 'Luton Town': (0.12000000000000002, 0.28), 'Burnley': (0.00909090909090912, 0.25), 'Sheffield Utd': (-0.10909090909090907, -0.07000000000000002)}\n",
      "0.14963512473325194\n"
     ]
    }
   ],
   "source": [
    "import math\n",
    "teams = ['Arsenal', 'Manchester City', 'Liverpool', 'Aston Villa', 'Tottenham', 'Newcastle Utd', 'Chelsea', 'Manchester Utd', 'West Ham', 'Bournemouth', 'Brighton', 'Wolves', 'Fulham', 'Crystal Palace', 'Everton', 'Brentford', \"Nott'ham Forest\", 'Luton Town', 'Burnley', 'Sheffield Utd']\n",
    "\n",
    "# gather the average home xG and awayxG for each team\n",
    "def getRollingAverageDiff(week, numWeeks):\n",
    "    xgResults = {}\n",
    "    average = clean_train[clean_train['Wk']>(week-numWeeks)]\n",
    "    average = average[average['Wk']<=week]\n",
    "    for team in teams:\n",
    "        avgHomeXg = average[average['Home'] == team]['HomexGDiff'].mean()\n",
    "        avgAwayXg = average[average['Away'] == team]['AwayxGDiff'].mean()\n",
    "        xgResults[team] = (avgHomeXg, avgAwayXg)\n",
    "    avgTieXG = average[average['Result']=='T']['diffxGDiff'].mean()\n",
    "    avgTieXG /= math.sqrt(numWeeks)\n",
    "    return xgResults, avgTieXG\n",
    "\n",
    "diffXgResults, avgTieDiffXG = getRollingAverageDiff(21, 21)\n",
    "\n",
    "\n",
    "print(diffXgResults)\n",
    "print(avgTieDiffXG)"
   ]
  },
  {
   "cell_type": "code",
   "execution_count": null,
   "metadata": {},
   "outputs": [
    {
     "name": "stdout",
     "output_type": "stream",
     "text": [
      "Accuracy of season long diffXG to predict result: 0.35714285714285715\n"
     ]
    }
   ],
   "source": [
    "predDiffxG = []\n",
    "for index,row in clean_test.iterrows():\n",
    "    predDiffxG.append(predict_result(diffXgResults[row['Home']][0], diffXgResults[row['Away']][1], avgTieDiffXG))\n",
    "actualDiffxG = clean_test['Result'].to_list()\n",
    "accuracy = metrics.accuracy_score(actualDiffxG, predDiffxG)\n",
    "print(\"Accuracy of season long diffXG to predict result:\", accuracy)"
   ]
  },
  {
   "cell_type": "code",
   "execution_count": null,
   "metadata": {},
   "outputs": [
    {
     "name": "stdout",
     "output_type": "stream",
     "text": [
      "Accuracy of rolling XG to predict result: 0.5942028985507246 1\n",
      "Accuracy of rolling XG to predict result: 0.6231884057971014 2\n",
      "Accuracy of rolling XG to predict result: 0.5893719806763285 3\n",
      "Accuracy of rolling XG to predict result: 0.572463768115942 4\n",
      "Accuracy of rolling XG to predict result: 0.5652173913043478 5\n",
      "Accuracy of rolling XG to predict result: 0.5603864734299517 6\n",
      "Accuracy of rolling XG to predict result: 0.5527950310559007 7\n",
      "Accuracy of rolling XG to predict result: 0.5471014492753623 8\n",
      "Accuracy of rolling XG to predict result: 0.537842190016103 9\n",
      "Accuracy of rolling XG to predict result: 0.5304347826086957 10\n",
      "Accuracy of rolling XG to predict result: 0.5230566534914362 11\n",
      "Accuracy of rolling XG to predict result: 0.5181159420289855 12\n",
      "Accuracy of rolling XG to predict result: 0.5161649944258639 13\n",
      "Accuracy of rolling XG to predict result: 0.5124223602484472 14\n",
      "Accuracy of rolling XG to predict result: 0.5101449275362319 15\n",
      "Accuracy of rolling XG to predict result: 0.5072463768115942 16\n",
      "Accuracy of rolling XG to predict result: 0.5072463768115942 17\n",
      "Accuracy of rolling XG to predict result: 0.5080515297906603 18\n",
      "Accuracy of rolling XG to predict result: 0.5080091533180778 19\n",
      "Accuracy of rolling XG to predict result: 0.5072463768115942 20\n"
     ]
    }
   ],
   "source": [
    "#predict week by week\n",
    "predRollingxG = []\n",
    "actualRollingxG = []\n",
    "for j in range(1, 21):\n",
    "    for i in range(0,7):\n",
    "        xgResults, avgTieXG = getRollingAverage(21 + i, j)\n",
    "        week = 21+i\n",
    "        thisWeek = clean_train[clean_train['Wk'] == week]\n",
    "        for index,row in thisWeek.iterrows():\n",
    "            predRollingxG.append(predict_result(xgResults[row['Home']][0], xgResults[row['Away']][1], avgTieXG))\n",
    "            actualRollingxG.append(row['Result'])\n",
    "    accuracy = metrics.accuracy_score(actualRollingxG, predRollingxG)\n",
    "    print(\"Accuracy of rolling XG to predict result:\", accuracy, j)"
   ]
  },
  {
   "cell_type": "code",
   "execution_count": null,
   "metadata": {},
   "outputs": [
    {
     "name": "stdout",
     "output_type": "stream",
     "text": [
      "Accuracy of rolling diffXG to predict result: 0.6521739130434783 1\n",
      "Accuracy of rolling diffXG to predict result: 0.6666666666666666 2\n",
      "Accuracy of rolling diffXG to predict result: 0.6280193236714976 3\n",
      "Accuracy of rolling diffXG to predict result: 0.6123188405797102 4\n",
      "Accuracy of rolling diffXG to predict result: 0.5971014492753624 5\n",
      "Accuracy of rolling diffXG to predict result: 0.5893719806763285 6\n",
      "Accuracy of rolling diffXG to predict result: 0.5817805383022774 7\n",
      "Accuracy of rolling diffXG to predict result: 0.5688405797101449 8\n",
      "Accuracy of rolling diffXG to predict result: 0.5523349436392915 9\n",
      "Accuracy of rolling diffXG to predict result: 0.5420289855072464 10\n",
      "Accuracy of rolling diffXG to predict result: 0.538866930171278 11\n",
      "Accuracy of rolling diffXG to predict result: 0.5362318840579711 12\n",
      "Accuracy of rolling diffXG to predict result: 0.5328874024526199 13\n",
      "Accuracy of rolling diffXG to predict result: 0.5289855072463768 14\n",
      "Accuracy of rolling diffXG to predict result: 0.5246376811594203 15\n",
      "Accuracy of rolling diffXG to predict result: 0.5190217391304348 16\n",
      "Accuracy of rolling diffXG to predict result: 0.5166240409207161 17\n",
      "Accuracy of rolling diffXG to predict result: 0.5177133655394525 18\n",
      "Accuracy of rolling diffXG to predict result: 0.5202135774218154 19\n",
      "Accuracy of rolling diffXG to predict result: 0.5224637681159421 20\n"
     ]
    }
   ],
   "source": [
    "predRollingDiffxG = []\n",
    "actualRollingDiffxG = []\n",
    "for j in range(1, 21):\n",
    "    for i in range(0,7):\n",
    "        xgResults, avgTieXG = getRollingAverageDiff(21 + i, j)\n",
    "        week = 21+i\n",
    "        thisWeek = clean_train[clean_train['Wk'] == week]\n",
    "        for index,row in thisWeek.iterrows():\n",
    "            predRollingDiffxG.append(predict_result(xgResults[row['Home']][0], xgResults[row['Away']][1], avgTieXG))\n",
    "            actualRollingDiffxG.append(row['Result'])\n",
    "    accuracy = metrics.accuracy_score(actualRollingDiffxG, predRollingDiffxG)\n",
    "    print(\"Accuracy of rolling diffXG to predict result:\", accuracy, j)"
   ]
  }
 ],
 "metadata": {
  "kernelspec": {
   "display_name": "Python 3",
   "language": "python",
   "name": "python3"
  },
  "language_info": {
   "codemirror_mode": {
    "name": "ipython",
    "version": 3
   },
   "file_extension": ".py",
   "mimetype": "text/x-python",
   "name": "python",
   "nbconvert_exporter": "python",
   "pygments_lexer": "ipython3",
   "version": "3.11.5"
  }
 },
 "nbformat": 4,
 "nbformat_minor": 2
}
