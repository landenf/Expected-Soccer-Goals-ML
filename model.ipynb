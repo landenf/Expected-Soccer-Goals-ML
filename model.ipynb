{
 "cells": [
  {
   "cell_type": "code",
   "execution_count": 254,
   "metadata": {},
   "outputs": [],
   "source": [
    "#Imports\n",
    "import pandas as pd\n",
    "from sklearn.model_selection import train_test_split\n",
    "from sklearn.neighbors import KNeighborsClassifier\n",
    "from sklearn.metrics import accuracy_score"
   ]
  },
  {
   "cell_type": "code",
   "execution_count": 255,
   "metadata": {},
   "outputs": [
    {
     "name": "stdout",
     "output_type": "stream",
     "text": [
      "<bound method NDFrame.head of      Wk  Day        Date           Time           Home  HomexG Score  AwayxG  \\\n",
      "0     1  Fri  2023-08-11  20:00 (14:00)        Burnley     0.3   0–3     1.9   \n",
      "1     1  Sat  2023-08-12  12:30 (06:30)        Arsenal     0.8   2–1     1.2   \n",
      "2     1  Sat  2023-08-12  15:00 (09:00)        Everton     2.7   0–1     1.5   \n",
      "3     1  Sat  2023-08-12  15:00 (09:00)  Sheffield Utd     0.5   0–1     1.9   \n",
      "4     1  Sat  2023-08-12  15:00 (09:00)       Brighton     4.0   4–1     1.5   \n",
      "..   ..  ...         ...            ...            ...     ...   ...     ...   \n",
      "273  28  Sun  2024-03-10  13:00 (08:00)    Aston Villa     0.8   0–4     1.5   \n",
      "274  28  Sun  2024-03-10  14:00 (09:00)       West Ham     2.1   2–2     0.7   \n",
      "275  28  Sun  2024-03-10  14:00 (09:00)       Brighton     0.4   1–0     0.7   \n",
      "276  28  Sun  2024-03-10  15:45 (10:45)      Liverpool     2.7   1–1     1.6   \n",
      "277  28  Mon  2024-03-11  20:00 (15:00)        Chelsea     1.6   3–2     0.7   \n",
      "\n",
      "                Away Attendance                                   Venue  \\\n",
      "0    Manchester City     21,572                               Turf Moor   \n",
      "1    Nott'ham Forest     59,984                        Emirates Stadium   \n",
      "2             Fulham     39,940                           Goodison Park   \n",
      "3     Crystal Palace     31,194                            Bramall Lane   \n",
      "4         Luton Town     31,872  The American Express Community Stadium   \n",
      "..               ...        ...                                     ...   \n",
      "273        Tottenham     42,310                              Villa Park   \n",
      "274          Burnley     62,441                          London Stadium   \n",
      "275  Nott'ham Forest     31,505  The American Express Community Stadium   \n",
      "276  Manchester City     59,947                                 Anfield   \n",
      "277    Newcastle Utd     37,753                         Stamford Bridge   \n",
      "\n",
      "               Referee  Match Report  Notes  \n",
      "0         Craig Pawson  Match Report    NaN  \n",
      "1       Michael Oliver  Match Report    NaN  \n",
      "2       Stuart Attwell  Match Report    NaN  \n",
      "3          John Brooks  Match Report    NaN  \n",
      "4          David Coote  Match Report    NaN  \n",
      "..                 ...           ...    ...  \n",
      "273     Chris Kavanagh  Match Report    NaN  \n",
      "274     Darren England  Match Report    NaN  \n",
      "275  Michael Salisbury  Match Report    NaN  \n",
      "276     Michael Oliver  Match Report    NaN  \n",
      "277        John Brooks  Match Report    NaN  \n",
      "\n",
      "[278 rows x 14 columns]>\n"
     ]
    }
   ],
   "source": [
    "df = pd.read_csv(\"data/GoalData.csv\")\n",
    "print(df.head)"
   ]
  },
  {
   "cell_type": "markdown",
   "metadata": {},
   "source": [
    "Data Pre-Processing"
   ]
  },
  {
   "cell_type": "code",
   "execution_count": 256,
   "metadata": {},
   "outputs": [
    {
     "ename": "KeyError",
     "evalue": "'HomexG'",
     "output_type": "error",
     "traceback": [
      "\u001b[1;31m---------------------------------------------------------------------------\u001b[0m",
      "\u001b[1;31mKeyError\u001b[0m                                  Traceback (most recent call last)",
      "File \u001b[1;32m~\\AppData\\Roaming\\Python\\Python311\\site-packages\\pandas\\core\\indexes\\base.py:3790\u001b[0m, in \u001b[0;36mIndex.get_loc\u001b[1;34m(self, key)\u001b[0m\n\u001b[0;32m   3789\u001b[0m \u001b[38;5;28;01mtry\u001b[39;00m:\n\u001b[1;32m-> 3790\u001b[0m     \u001b[38;5;28;01mreturn\u001b[39;00m \u001b[38;5;28;43mself\u001b[39;49m\u001b[38;5;241;43m.\u001b[39;49m\u001b[43m_engine\u001b[49m\u001b[38;5;241;43m.\u001b[39;49m\u001b[43mget_loc\u001b[49m\u001b[43m(\u001b[49m\u001b[43mcasted_key\u001b[49m\u001b[43m)\u001b[49m\n\u001b[0;32m   3791\u001b[0m \u001b[38;5;28;01mexcept\u001b[39;00m \u001b[38;5;167;01mKeyError\u001b[39;00m \u001b[38;5;28;01mas\u001b[39;00m err:\n",
      "File \u001b[1;32mindex.pyx:152\u001b[0m, in \u001b[0;36mpandas._libs.index.IndexEngine.get_loc\u001b[1;34m()\u001b[0m\n",
      "File \u001b[1;32mindex.pyx:181\u001b[0m, in \u001b[0;36mpandas._libs.index.IndexEngine.get_loc\u001b[1;34m()\u001b[0m\n",
      "File \u001b[1;32mpandas\\_libs\\hashtable_class_helper.pxi:7080\u001b[0m, in \u001b[0;36mpandas._libs.hashtable.PyObjectHashTable.get_item\u001b[1;34m()\u001b[0m\n",
      "File \u001b[1;32mpandas\\_libs\\hashtable_class_helper.pxi:7088\u001b[0m, in \u001b[0;36mpandas._libs.hashtable.PyObjectHashTable.get_item\u001b[1;34m()\u001b[0m\n",
      "\u001b[1;31mKeyError\u001b[0m: 'HomexG'",
      "\nThe above exception was the direct cause of the following exception:\n",
      "\u001b[1;31mKeyError\u001b[0m                                  Traceback (most recent call last)",
      "Cell \u001b[1;32mIn[256], line 41\u001b[0m\n\u001b[0;32m     38\u001b[0m dfH \u001b[38;5;241m=\u001b[39m df[[\u001b[38;5;124m'\u001b[39m\u001b[38;5;124mHomeG\u001b[39m\u001b[38;5;124m'\u001b[39m, \u001b[38;5;124m'\u001b[39m\u001b[38;5;124mDiffHxG\u001b[39m\u001b[38;5;124m'\u001b[39m, \u001b[38;5;124m'\u001b[39m\u001b[38;5;124mResult\u001b[39m\u001b[38;5;124m'\u001b[39m]]\n\u001b[0;32m     39\u001b[0m dfA \u001b[38;5;241m=\u001b[39m df[[\u001b[38;5;124m'\u001b[39m\u001b[38;5;124mAwayG\u001b[39m\u001b[38;5;124m'\u001b[39m, \u001b[38;5;124m'\u001b[39m\u001b[38;5;124mDiffAxG\u001b[39m\u001b[38;5;124m'\u001b[39m, \u001b[38;5;124m'\u001b[39m\u001b[38;5;124mResult\u001b[39m\u001b[38;5;124m'\u001b[39m]]\n\u001b[1;32m---> 41\u001b[0m dfH[\u001b[38;5;124m'\u001b[39m\u001b[38;5;124mxG\u001b[39m\u001b[38;5;124m'\u001b[39m] \u001b[38;5;241m=\u001b[39m \u001b[43mdfH\u001b[49m\u001b[43m[\u001b[49m\u001b[38;5;124;43m'\u001b[39;49m\u001b[38;5;124;43mHomexG\u001b[39;49m\u001b[38;5;124;43m'\u001b[39;49m\u001b[43m]\u001b[49m\n\u001b[0;32m     42\u001b[0m dfH[\u001b[38;5;124m'\u001b[39m\u001b[38;5;124mDiffxG\u001b[39m\u001b[38;5;124m'\u001b[39m] \u001b[38;5;241m=\u001b[39m dfH[\u001b[38;5;124m'\u001b[39m\u001b[38;5;124mDiffHxG\u001b[39m\u001b[38;5;124m'\u001b[39m]\n\u001b[0;32m     43\u001b[0m dfH[\u001b[38;5;124m'\u001b[39m\u001b[38;5;124mResult\u001b[39m\u001b[38;5;124m'\u001b[39m] \u001b[38;5;241m=\u001b[39m dfH[\u001b[38;5;124m'\u001b[39m\u001b[38;5;124mResult\u001b[39m\u001b[38;5;124m'\u001b[39m]\u001b[38;5;241m.\u001b[39mapply(\u001b[38;5;28;01mlambda\u001b[39;00m x: gather_home_winner(x))\n",
      "File \u001b[1;32m~\\AppData\\Roaming\\Python\\Python311\\site-packages\\pandas\\core\\frame.py:3893\u001b[0m, in \u001b[0;36mDataFrame.__getitem__\u001b[1;34m(self, key)\u001b[0m\n\u001b[0;32m   3891\u001b[0m \u001b[38;5;28;01mif\u001b[39;00m \u001b[38;5;28mself\u001b[39m\u001b[38;5;241m.\u001b[39mcolumns\u001b[38;5;241m.\u001b[39mnlevels \u001b[38;5;241m>\u001b[39m \u001b[38;5;241m1\u001b[39m:\n\u001b[0;32m   3892\u001b[0m     \u001b[38;5;28;01mreturn\u001b[39;00m \u001b[38;5;28mself\u001b[39m\u001b[38;5;241m.\u001b[39m_getitem_multilevel(key)\n\u001b[1;32m-> 3893\u001b[0m indexer \u001b[38;5;241m=\u001b[39m \u001b[38;5;28;43mself\u001b[39;49m\u001b[38;5;241;43m.\u001b[39;49m\u001b[43mcolumns\u001b[49m\u001b[38;5;241;43m.\u001b[39;49m\u001b[43mget_loc\u001b[49m\u001b[43m(\u001b[49m\u001b[43mkey\u001b[49m\u001b[43m)\u001b[49m\n\u001b[0;32m   3894\u001b[0m \u001b[38;5;28;01mif\u001b[39;00m is_integer(indexer):\n\u001b[0;32m   3895\u001b[0m     indexer \u001b[38;5;241m=\u001b[39m [indexer]\n",
      "File \u001b[1;32m~\\AppData\\Roaming\\Python\\Python311\\site-packages\\pandas\\core\\indexes\\base.py:3797\u001b[0m, in \u001b[0;36mIndex.get_loc\u001b[1;34m(self, key)\u001b[0m\n\u001b[0;32m   3792\u001b[0m     \u001b[38;5;28;01mif\u001b[39;00m \u001b[38;5;28misinstance\u001b[39m(casted_key, \u001b[38;5;28mslice\u001b[39m) \u001b[38;5;129;01mor\u001b[39;00m (\n\u001b[0;32m   3793\u001b[0m         \u001b[38;5;28misinstance\u001b[39m(casted_key, abc\u001b[38;5;241m.\u001b[39mIterable)\n\u001b[0;32m   3794\u001b[0m         \u001b[38;5;129;01mand\u001b[39;00m \u001b[38;5;28many\u001b[39m(\u001b[38;5;28misinstance\u001b[39m(x, \u001b[38;5;28mslice\u001b[39m) \u001b[38;5;28;01mfor\u001b[39;00m x \u001b[38;5;129;01min\u001b[39;00m casted_key)\n\u001b[0;32m   3795\u001b[0m     ):\n\u001b[0;32m   3796\u001b[0m         \u001b[38;5;28;01mraise\u001b[39;00m InvalidIndexError(key)\n\u001b[1;32m-> 3797\u001b[0m     \u001b[38;5;28;01mraise\u001b[39;00m \u001b[38;5;167;01mKeyError\u001b[39;00m(key) \u001b[38;5;28;01mfrom\u001b[39;00m \u001b[38;5;21;01merr\u001b[39;00m\n\u001b[0;32m   3798\u001b[0m \u001b[38;5;28;01mexcept\u001b[39;00m \u001b[38;5;167;01mTypeError\u001b[39;00m:\n\u001b[0;32m   3799\u001b[0m     \u001b[38;5;66;03m# If we have a listlike key, _check_indexing_error will raise\u001b[39;00m\n\u001b[0;32m   3800\u001b[0m     \u001b[38;5;66;03m#  InvalidIndexError. Otherwise we fall through and re-raise\u001b[39;00m\n\u001b[0;32m   3801\u001b[0m     \u001b[38;5;66;03m#  the TypeError.\u001b[39;00m\n\u001b[0;32m   3802\u001b[0m     \u001b[38;5;28mself\u001b[39m\u001b[38;5;241m.\u001b[39m_check_indexing_error(key)\n",
      "\u001b[1;31mKeyError\u001b[0m: 'HomexG'"
     ]
    }
   ],
   "source": [
    "def gather_home_goals(value):\n",
    "    if value != None:\n",
    "        return int(value[0])\n",
    "    pass\n",
    "\n",
    "def gather_away_goals(value):\n",
    "    if value != None:\n",
    "        return int(value[2])\n",
    "    \n",
    "def gather_winner(value):\n",
    "    if(value!=None):\n",
    "        if(int(value[0]) > int(value[2])):\n",
    "            return 'H'\n",
    "        elif(int(value[2])>int(value[0])):\n",
    "            return \"A\"\n",
    "        return 'T'\n",
    "\n",
    "def gather_home_winner(value):\n",
    "    if(value!=None):\n",
    "        if(value == 'H'):\n",
    "            return 1\n",
    "        return 0\n",
    "    \n",
    "def gather_away_winner(value):\n",
    "    if(value!=None):\n",
    "        if(value == 'A'):\n",
    "            return 1\n",
    "        return 0\n",
    "\n",
    "df = df[['HomexG', 'AwayxG', 'Score']]\n",
    "\n",
    "df['HomeG'] = df['Score'].apply(lambda x: gather_home_goals(x))\n",
    "df['AwayG'] = df['Score'].apply(lambda x: gather_away_goals(x))\n",
    "df['DiffHxG'] = df['HomeG'] - df['HomexG']\n",
    "df['DiffAxG'] = df['AwayG'] - df['AwayxG']\n",
    "df['Result'] = df['Score'].apply(lambda x: gather_winner(x))\n",
    "\n",
    "dfH = df[['HomexG', 'DiffHxG', 'Result']]\n",
    "dfA = df[['AwayxG', 'DiffAxG', 'Result']]\n",
    "\n",
    "dfH['xG'] = dfH['HomexG']\n",
    "dfH['DiffxG'] = dfH['DiffHxG']\n",
    "dfH['Result'] = dfH['Result'].apply(lambda x: gather_home_winner(x))\n",
    "\n",
    "dfA['xG'] = dfA['AwayxG']\n",
    "dfA['DiffxG'] = dfA['DiffAxG']\n",
    "dfA['Result'] = dfA['Result'].apply(lambda x: gather_away_winner(x))\n",
    "\n",
    "dfH = dfH[['xG', 'DiffxG', 'Result']]\n",
    "dfA = dfA[['xG', 'DiffxG', 'Result']]\n",
    "\n",
    "df = pd.concat([dfH, dfA])\n",
    "\n",
    "print(dfA)"
   ]
  },
  {
   "cell_type": "markdown",
   "metadata": {},
   "source": [
    "KNN Modeling"
   ]
  },
  {
   "cell_type": "code",
   "execution_count": null,
   "metadata": {},
   "outputs": [
    {
     "name": "stdout",
     "output_type": "stream",
     "text": [
      "     G  DiffxG\n",
      "0    0    -0.3\n",
      "1    2     1.2\n",
      "2    0    -2.7\n",
      "3    0    -0.5\n",
      "4    4     0.0\n",
      "..  ..     ...\n",
      "273  4     2.5\n",
      "274  2     1.3\n",
      "275  0    -0.7\n",
      "276  1    -0.6\n",
      "277  2     1.3\n",
      "\n",
      "[556 rows x 2 columns]\n",
      "0      0\n",
      "1      1\n",
      "2      0\n",
      "3      0\n",
      "4      1\n",
      "      ..\n",
      "273    1\n",
      "274    0\n",
      "275    0\n",
      "276    0\n",
      "277    0\n",
      "Name: Result, Length: 556, dtype: int64\n",
      "Model accuracy: 0.79\n"
     ]
    }
   ],
   "source": [
    "X = df[['xG', 'DiffxG']]\n",
    "y = df['Result']\n",
    "print(X)\n",
    "print(y)\n",
    "\n",
    "X_train, X_test, y_train, y_test = train_test_split(X, y, test_size=0.25, random_state=42)\n",
    "\n",
    "knn = KNeighborsClassifier(n_neighbors=5)\n",
    "knn.fit(X_train, y_train)\n",
    "\n",
    "y_pred = knn.predict(X_test)\n",
    "accuracy = accuracy_score(y_test, y_pred)\n",
    "print(f\"Model accuracy: {accuracy:.2f}\")"
   ]
  },
  {
   "cell_type": "markdown",
   "metadata": {},
   "source": [
    "Test Predictions"
   ]
  },
  {
   "cell_type": "code",
   "execution_count": null,
   "metadata": {},
   "outputs": [
    {
     "name": "stdout",
     "output_type": "stream",
     "text": [
      "Predicted Result: 1\n"
     ]
    }
   ],
   "source": [
    "test_data_df = pd.DataFrame({\n",
    "    'G': [10],\n",
    "    'DiffxG': [-0.6]\n",
    "})\n",
    "\n",
    "predicted_result = knn.predict(test_data_df)\n",
    "print(f\"Predicted Result: {predicted_result[0]}\")"
   ]
  },
  {
   "cell_type": "markdown",
   "metadata": {},
   "source": [
    "Conclusion"
   ]
  }
 ],
 "metadata": {
  "kernelspec": {
   "display_name": "Python 3",
   "language": "python",
   "name": "python3"
  },
  "language_info": {
   "codemirror_mode": {
    "name": "ipython",
    "version": 3
   },
   "file_extension": ".py",
   "mimetype": "text/x-python",
   "name": "python",
   "nbconvert_exporter": "python",
   "pygments_lexer": "ipython3",
   "version": "3.11.5"
  }
 },
 "nbformat": 4,
 "nbformat_minor": 2
}
